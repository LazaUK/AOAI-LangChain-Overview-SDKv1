{
 "cells": [
  {
   "cell_type": "markdown",
   "metadata": {},
   "source": [
    "## Use of LangChain and Azure OpenAI\n",
    "### Notebook 1 - Simple Text Generation"
   ]
  },
  {
   "cell_type": "code",
   "execution_count": 1,
   "metadata": {},
   "outputs": [],
   "source": [
    "# Importing required packages\n",
    "from langchain_openai import AzureChatOpenAI\n",
    "import os"
   ]
  },
  {
   "cell_type": "markdown",
   "metadata": {},
   "source": [
    "**Note**: If connecting LangChain to Azure OpenAI endpoint, ensure that you don't have local OPENAI_API_BASE environment variable, as otherwise you will get a type value error, with the following error message - \"*As of openai>=1.0.0, Azure endpoints should be specified via the `azure_endpoint` param not `openai_api_base` (or alias `base_url`)*\". "
   ]
  },
  {
   "cell_type": "code",
   "execution_count": 2,
   "metadata": {},
   "outputs": [],
   "source": [
    "# Extracting environment variables\n",
    "AOAI_API_BASE = os.getenv(\"AZURE_OPENAI_API_BASE\")\n",
    "AOAI_API_KEY = os.getenv(\"AZURE_OPENAI_API_KEY\")\n",
    "AOAI_API_VERSION = os.getenv(\"AZURE_OPENAI_API_VERSION\")\n",
    "AOAI_DEPLOYMENT1 = os.getenv(\"AZURE_OPENAI_API_DEPLOY\")"
   ]
  },
  {
   "cell_type": "code",
   "execution_count": 3,
   "metadata": {},
   "outputs": [],
   "source": [
    "# Creating an instance of Azure OpenAI\n",
    "llm = AzureChatOpenAI(\n",
    "    api_key = AOAI_API_KEY,\n",
    "    api_version = AOAI_API_VERSION,\n",
    "    azure_endpoint = AOAI_API_BASE,\n",
    "    azure_deployment = AOAI_DEPLOYMENT1,\n",
    ")"
   ]
  },
  {
   "cell_type": "code",
   "execution_count": 4,
   "metadata": {},
   "outputs": [],
   "source": [
    "# Defining helper function\n",
    "def generate_limerick(keyword):\n",
    "    prompt = f\"There once was a cat named {keyword}, whose fur was so shiny and bright...\"\n",
    "    response = llm.invoke(input=prompt)\n",
    "    return response.content"
   ]
  },
  {
   "cell_type": "code",
   "execution_count": 5,
   "metadata": {},
   "outputs": [
    {
     "name": "stdout",
     "output_type": "stream",
     "text": [
      "There once was a cat named Frog,\n",
      "Whose fur was so shiny and bright.\n",
      "In sunlight it gleamed like a bog,\n",
      "With hues that could dazzle the sight.\n",
      "\n",
      "Her whiskers were long, her eyes green,\n",
      "A feline both quirky and small.\n",
      "She bounced like her namesake, unseen,\n",
      "And answered each curious call.\n",
      "\n",
      "She'd explore every nook, every cranny,\n",
      "With paws silent, soft as a log.\n",
      "And if she found something uncanny,\n",
      "She'd inspect it, that cat named Frog.\n",
      "\n",
      "At night she'd curl up in a lap,\n",
      "Her purring a comforting song.\n",
      "Her dreams filled with cream and a nap,\n",
      "In a world where no mouse could do wrong.\n",
      "\n",
      "So here's to the cat named Frog,\n",
      "A wonder in fur, a delight.\n",
      "Her antics could clear any fog,\n",
      "And her presence would make hearts alight.\n"
     ]
    }
   ],
   "source": [
    "# Testing simple limerick generation\n",
    "keyword = \"frog\"\n",
    "generated_limerick = generate_limerick(keyword)\n",
    "print(generated_limerick)"
   ]
  }
 ],
 "metadata": {
  "kernelspec": {
   "display_name": "Python 3",
   "language": "python",
   "name": "python3"
  },
  "language_info": {
   "codemirror_mode": {
    "name": "ipython",
    "version": 3
   },
   "file_extension": ".py",
   "mimetype": "text/x-python",
   "name": "python",
   "nbconvert_exporter": "python",
   "pygments_lexer": "ipython3",
   "version": "3.11.8"
  }
 },
 "nbformat": 4,
 "nbformat_minor": 2
}
