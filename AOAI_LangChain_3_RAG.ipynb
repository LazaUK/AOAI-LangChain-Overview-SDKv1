{
 "cells": [
  {
   "cell_type": "markdown",
   "metadata": {},
   "source": [
    "## Use of LangChain and Azure OpenAI\n",
    "### Notebook 3 - Retrieval Augmentation Generation"
   ]
  },
  {
   "cell_type": "code",
   "execution_count": 1,
   "metadata": {},
   "outputs": [],
   "source": [
    "# Importing required packages\n",
    "from langchain_openai import AzureChatOpenAI, AzureOpenAIEmbeddings\n",
    "from langchain.document_loaders import PyPDFLoader\n",
    "from langchain_community.vectorstores import FAISS\n",
    "from langchain.chains.combine_documents import create_stuff_documents_chain\n",
    "from langchain_core.prompts import ChatPromptTemplate\n",
    "from langchain.chains import create_retrieval_chain\n",
    "import os"
   ]
  },
  {
   "cell_type": "markdown",
   "metadata": {},
   "source": [
    "**Note**: If connecting LangChain to Azure OpenAI endpoint, ensure that you don't have local OPENAI_API_BASE environment variable, as otherwise you will get a type value error, with the following error message - \"*As of openai>=1.0.0, Azure endpoints should be specified via the `azure_endpoint` param not `openai_api_base` (or alias `base_url`)*\". "
   ]
  },
  {
   "cell_type": "code",
   "execution_count": 2,
   "metadata": {},
   "outputs": [],
   "source": [
    "# Extracting environment variables\n",
    "AOAI_API_BASE = os.getenv(\"AZURE_OPENAI_API_BASE\")\n",
    "AOAI_API_KEY = os.getenv(\"AZURE_OPENAI_API_KEY\")\n",
    "AOAI_API_VERSION = os.getenv(\"AZURE_OPENAI_API_VERSION\")\n",
    "AOAI_DEPLOYMENT1 = os.getenv(\"AZURE_OPENAI_API_DEPLOY\")\n",
    "AOAI_DEPLOYMENT2 = os.getenv(\"AZURE_OPENAI_API_DEPLOY_EMBED\")"
   ]
  },
  {
   "cell_type": "code",
   "execution_count": 3,
   "metadata": {},
   "outputs": [],
   "source": [
    "# Creating an instance of Azure OpenAI GPT-4\n",
    "llm = AzureChatOpenAI(\n",
    "    api_key = AOAI_API_KEY,\n",
    "    api_version = AOAI_API_VERSION,\n",
    "    azure_endpoint = AOAI_API_BASE,\n",
    "    azure_deployment = AOAI_DEPLOYMENT1,\n",
    ")"
   ]
  },
  {
   "cell_type": "code",
   "execution_count": 4,
   "metadata": {},
   "outputs": [],
   "source": [
    "# Creating an instance of Azure OpenAI Embeddings\n",
    "embeddings = AzureOpenAIEmbeddings(\n",
    "    api_key = AOAI_API_KEY,\n",
    "    api_version = AOAI_API_VERSION,\n",
    "    azure_endpoint = AOAI_API_BASE,\n",
    "    azure_deployment = AOAI_DEPLOYMENT2,\n",
    ")"
   ]
  },
  {
   "cell_type": "code",
   "execution_count": 5,
   "metadata": {},
   "outputs": [],
   "source": [
    "# Creating array of pages\n",
    "loader = PyPDFLoader(\"data/NorthwindHealthPlus_BenefitsDetails.pdf\")\n",
    "pages = loader.load_and_split()"
   ]
  },
  {
   "cell_type": "code",
   "execution_count": 6,
   "metadata": {},
   "outputs": [
    {
     "name": "stdout",
     "output_type": "stream",
     "text": [
      "Number of pages in a new array: 109\n",
      "Content of 1st page: page_content='Contoso Electronics  \\nNorthwind Health Plus Plan' metadata={'source': 'data/NorthwindHealthPlus_BenefitsDetails.pdf', 'page': 0}\n"
     ]
    }
   ],
   "source": [
    "# Checking number of loaded pages\n",
    "print(f\"Number of pages in a new array: {len(pages)}\")\n",
    "print(f\"Content of 1st page: {pages[0]}\")"
   ]
  },
  {
   "cell_type": "markdown",
   "metadata": {},
   "source": [
    "You may need to install FAISS package first with ```pip install faiss-cpu```"
   ]
  },
  {
   "cell_type": "code",
   "execution_count": 7,
   "metadata": {},
   "outputs": [],
   "source": [
    "# Creating vector store with FAISS\n",
    "vector = FAISS.from_documents(pages, embeddings)"
   ]
  },
  {
   "cell_type": "code",
   "execution_count": 8,
   "metadata": {},
   "outputs": [],
   "source": [
    "# Defining document chain\n",
    "prompt = ChatPromptTemplate.from_template(\"\"\"\n",
    "Answer the following question based only on the provided context:\n",
    "\n",
    "<context>\n",
    "{context}\n",
    "</context>\n",
    "\n",
    "Question: {input}\n",
    "\"\"\"\n",
    ")\n",
    "\n",
    "document_chain = create_stuff_documents_chain(llm, prompt)"
   ]
  },
  {
   "cell_type": "code",
   "execution_count": 9,
   "metadata": {},
   "outputs": [],
   "source": [
    "# Defining retrieval chain\n",
    "retriever = vector.as_retriever()\n",
    "retrieval_chain = create_retrieval_chain(retriever, document_chain)"
   ]
  },
  {
   "cell_type": "code",
   "execution_count": 10,
   "metadata": {},
   "outputs": [
    {
     "name": "stdout",
     "output_type": "stream",
     "text": [
      "Northwind Health Plus is a comprehensive group health plan sponsored by Contoso and administered by Northwind Health. It provides participants with a wide range of health benefits and services, including coverage for medical, vision, and dental services, as well as prescription drug coverage, mental health and substance abuse services, and preventive care services. The plan allows members to choose from a variety of in-network providers, and it also covers emergency services. The plan is designed to supplement existing health insurance coverage, and it includes cost-sharing arrangements like co-pays, deductibles, and out-of-pocket maximums. Members are responsible for a portion of the premium, which is deducted from their paycheck, and may also incur additional costs when they receive health care services.\n"
     ]
    }
   ],
   "source": [
    "# Testing RAG chain\n",
    "response = retrieval_chain.invoke({\"input\": \"What is Northwind Health Plus?\"})\n",
    "print(response[\"answer\"])"
   ]
  }
 ],
 "metadata": {
  "kernelspec": {
   "display_name": "Python 3",
   "language": "python",
   "name": "python3"
  },
  "language_info": {
   "codemirror_mode": {
    "name": "ipython",
    "version": 3
   },
   "file_extension": ".py",
   "mimetype": "text/x-python",
   "name": "python",
   "nbconvert_exporter": "python",
   "pygments_lexer": "ipython3",
   "version": "3.11.8"
  }
 },
 "nbformat": 4,
 "nbformat_minor": 2
}
