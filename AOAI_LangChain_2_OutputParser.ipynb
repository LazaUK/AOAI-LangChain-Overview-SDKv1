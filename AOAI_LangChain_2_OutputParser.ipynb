{
 "cells": [
  {
   "cell_type": "markdown",
   "metadata": {},
   "source": [
    "## Use of LangChain and Azure OpenAI\n",
    "### Notebook 2 - Chain with text post-processing"
   ]
  },
  {
   "cell_type": "code",
   "execution_count": 1,
   "metadata": {},
   "outputs": [],
   "source": [
    "# Importing required packages\n",
    "from langchain_openai import AzureChatOpenAI\n",
    "from langchain_core.prompts import ChatPromptTemplate\n",
    "from langchain_core.output_parsers import StrOutputParser\n",
    "import os"
   ]
  },
  {
   "cell_type": "markdown",
   "metadata": {},
   "source": [
    "**Note**: If connecting LangChain to Azure OpenAI endpoint, ensure that you don't have local OPENAI_API_BASE environment variable, as otherwise you will get a type value error, with the following error message - \"*As of openai>=1.0.0, Azure endpoints should be specified via the `azure_endpoint` param not `openai_api_base` (or alias `base_url`)*\". "
   ]
  },
  {
   "cell_type": "code",
   "execution_count": 2,
   "metadata": {},
   "outputs": [],
   "source": [
    "# Extracting environment variables\n",
    "AOAI_API_BASE = os.getenv(\"AZURE_OPENAI_API_BASE\")\n",
    "AOAI_API_KEY = os.getenv(\"AZURE_OPENAI_API_KEY\")\n",
    "AOAI_API_VERSION = os.getenv(\"AZURE_OPENAI_API_VERSION\")\n",
    "AOAI_DEPLOYMENT1 = os.getenv(\"AZURE_OPENAI_API_DEPLOY\")"
   ]
  },
  {
   "cell_type": "code",
   "execution_count": 3,
   "metadata": {},
   "outputs": [],
   "source": [
    "# Creating an instance of Azure OpenAI\n",
    "llm = AzureChatOpenAI(\n",
    "    api_key = AOAI_API_KEY,\n",
    "    api_version = AOAI_API_VERSION,\n",
    "    azure_endpoint = AOAI_API_BASE,\n",
    "    azure_deployment = AOAI_DEPLOYMENT1,\n",
    ")"
   ]
  },
  {
   "cell_type": "code",
   "execution_count": 4,
   "metadata": {},
   "outputs": [],
   "source": [
    "# Creating a prompt template\n",
    "prompt = ChatPromptTemplate.from_messages([\n",
    "    (\"system\", \"You are a bi-lingual English-French astrophysicist. Please respond in English, unless asked otherwise.\"),\n",
    "    (\"user\", \"{input}\")\n",
    "])"
   ]
  },
  {
   "cell_type": "code",
   "execution_count": 5,
   "metadata": {},
   "outputs": [],
   "source": [
    "# Defining the user input\n",
    "question = \"Based on current scientific data, what evidence suggests the possibility of past or present microbial life on Mars?\"\n",
    "\n",
    "context = \"\"\"\n",
    "Mars est la quatrième planète du Soleil. \n",
    "Les scientifiques s'intéressent particulièrement au potentiel de Mars d'abriter une vie extraterrestre, passée ou présente. \n",
    "Il existe des preuves d'anciens lacs et rivières sur Mars, suggérant un climat passé plus humide qui aurait pu soutenir la vie microbienne.\n",
    "\"\"\"  # French context"
   ]
  },
  {
   "cell_type": "code",
   "execution_count": 6,
   "metadata": {},
   "outputs": [],
   "source": [
    "# Defining the chain\n",
    "chain = prompt | llm "
   ]
  },
  {
   "cell_type": "code",
   "execution_count": 7,
   "metadata": {},
   "outputs": [
    {
     "name": "stdout",
     "output_type": "stream",
     "text": [
      "Answer: content='Indeed, Mars is a focal point in the search for past or present extraterrestrial life due to several pieces of evidence that suggest it might have had conditions suitable for life:\\n\\n1. **Water Evidence**: The discovery of ancient river valleys, lake beds, and minerals that form in the presence of water indicates that Mars once had liquid water on its surface, which is essential for life as we know it.\\n\\n2. **Chemical Analysis**: Data from landers and rovers, like NASA’s Curiosity rover, have detected organic molecules—chemical building blocks of life—on Mars. While the presence of organics is not a direct indication of life, it suggests that the necessary components to support life exist or existed on Mars.\\n\\n3. **Atmospheric Methane**: Observations have detected methane in the Martian atmosphere. On Earth, methane can be produced by biological processes. The source of Martian methane is still unknown; it could be geological or potentially biological.\\n\\n4. **Climate Models**: Studies of the Martian climate history suggest that it may have been warm and wet for periods long enough to potentially support the development of microbial life.\\n\\n5. **Search for Biosignatures**: Missions like the Perseverance rover are designed to look for signs of past life on Mars by examining rock samples for biosignatures—patterns, elements, molecules, or isotopes that could have been produced by living organisms.\\n\\n6. **Habitability Potential**: The recurring slope lineae (RSL), which are seasonal flows on warm Martian slopes, might be briny liquid water flows. Briny water would have a lower freezing point, making it more stable on the cold Martian surface.\\n\\nThe collection of these findings makes Mars an excellent candidate for the search for extraterrestrial life. While they do not conclusively prove life has existed on Mars, they do show that the conditions necessary for life did exist, and they lay the groundwork for future missions to directly search for life.' response_metadata={'finish_reason': 'stop', 'logprobs': None}\n"
     ]
    }
   ],
   "source": [
    "# Testing the chain\n",
    "answer = chain.invoke({\"input\": f\"Question: {question}\\nContext: {context}\"})\n",
    "print(f\"Answer: {answer}\")"
   ]
  },
  {
   "cell_type": "code",
   "execution_count": 8,
   "metadata": {},
   "outputs": [],
   "source": [
    "# Re-defining the chain with str output parser\n",
    "output_parser = StrOutputParser()\n",
    "chain = prompt | llm | output_parser"
   ]
  },
  {
   "cell_type": "code",
   "execution_count": 9,
   "metadata": {},
   "outputs": [
    {
     "name": "stdout",
     "output_type": "stream",
     "text": [
      "Answer: The interest in Mars as a candidate for harboring past or present extraterrestrial life stems from several lines of evidence and scientific findings. Here are some of the key points that suggest the possibility of microbial life on Mars, either in the past or potentially even in the present:\n",
      "\n",
      "1. **Water Evidence**: Mars has signs of ancient rivers, lakes, and possibly even oceans. Since water is essential for life as we know it, this suggests that Mars may have had the conditions necessary to support life in the past. The Curiosity rover has found mineral deposits, like clays and sulfates, that typically form in water, indicating that liquid water was present for a significant duration.\n",
      "\n",
      "2. **Chemical Building Blocks**: Instruments on Mars rovers, like the Sample Analysis at Mars (SAM) laboratory on Curiosity, have detected organic molecules on Mars. Organic molecules are the building blocks of life and can be created by biological processes.\n",
      "\n",
      "3. **Methane**: Curiosity has detected methane spikes in the Martian atmosphere. On Earth, methane can be produced by biological processes (from microbes, for example). However, it can also be produced geologically, so the presence of methane alone isn't conclusive evidence of life.\n",
      "\n",
      "4. **Habitability**: Analysis of Martian rocks and soil has revealed that some environments on Mars could have been habitable for life as we know it. This includes findings of past environments with neutral acidity and variable redox states, which are conducive to life.\n",
      "\n",
      "5. **Possible Liquid Water Today**: There is evidence of briny liquid water flowing on the surface of Mars in the present day during the warmer seasons. While the conditions on the surface are harsh, with cold temperatures and high radiation, life on Earth has been found in similarly extreme conditions.\n",
      "\n",
      "6. **Protected Environments**: Some researchers propose that life could exist in protected environments on Mars, such as underground or in caves, where it would be shielded from the harsh surface conditions.\n",
      "\n",
      "While the evidence is compelling, it's important to note that none of these findings confirm the presence of life on Mars. They only indicate that Mars had, and possibly still has, conditions that could support life. The search for definitive proof of life on Mars continues, with missions like the Perseverance rover, which is collecting rock and soil samples that might be returned to Earth for detailed analysis in the future.\n"
     ]
    }
   ],
   "source": [
    "# Re-testing the chain\n",
    "answer = chain.invoke({\"input\": f\"Question: {question}\\nContext: {context}\"})\n",
    "print(f\"Answer: {answer}\")"
   ]
  }
 ],
 "metadata": {
  "kernelspec": {
   "display_name": "Python 3",
   "language": "python",
   "name": "python3"
  },
  "language_info": {
   "codemirror_mode": {
    "name": "ipython",
    "version": 3
   },
   "file_extension": ".py",
   "mimetype": "text/x-python",
   "name": "python",
   "nbconvert_exporter": "python",
   "pygments_lexer": "ipython3",
   "version": "3.11.8"
  }
 },
 "nbformat": 4,
 "nbformat_minor": 2
}
